{
 "cells": [
  {
   "cell_type": "code",
   "execution_count": null,
   "id": "58f3e139-a334-448b-a0b4-b272f9797a5e",
   "metadata": {},
   "outputs": [],
   "source": []
  }
 ],
 "metadata": {
  "kernelspec": {
   "display_name": "",
   "name": ""
  },
  "language_info": {
   "name": ""
  }
 },
 "nbformat": 4,
 "nbformat_minor": 5
}
