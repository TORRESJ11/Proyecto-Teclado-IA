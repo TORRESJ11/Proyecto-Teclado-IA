{
 "cells": [
  {
   "cell_type": "code",
   "execution_count": null,
   "id": "2a091c90-549d-40a2-8cd8-df8b05c8b746",
   "metadata": {},
   "outputs": [],
   "source": []
  }
 ],
 "metadata": {
  "kernelspec": {
   "display_name": "",
   "name": ""
  },
  "language_info": {
   "name": ""
  }
 },
 "nbformat": 4,
 "nbformat_minor": 5
}
